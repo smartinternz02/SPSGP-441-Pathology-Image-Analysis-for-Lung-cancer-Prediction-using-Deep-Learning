{
 "cells": [
  {
   "cell_type": "markdown",
   "metadata": {},
   "source": [
    "https://machinelearningmastery.com/convolutional-layers-for-deep-learning-neural-networks/\n",
    "CNN is a specialized type of neural network model designed for working with two-dimensional image data, although they can be used with one-dimensional and three-dimensional data.\n",
    "\n",
    "\n",
    "convolution is a linear operation that involves the multiplication of a set of weights with the input, much like a traditional neural network. Given that the technique was designed for two-dimensional input, the multiplication is performed between an array of input data and a two-dimensional array of weights, called a filter or a kernel.\n",
    "\n",
    "\n",
    "The output from multiplying the filter with the input array one time is a single value. As the filter is applied multiple times to the input array, the result is a two-dimensional array of output values that represent a filtering of the input. As such, the two-dimensional output array from this operation is called a “feature map“.\n",
    "\n",
    "\n",
    "Once a feature map is created, we can pass each value in the feature map through a nonlinearity, such as a ReLU, much like we do for the outputs of a fully connected layer.\n",
    "\n",
    "For example, below is a hand crafted 3×3 element filter for detecting vertical lines:\n",
    "\n",
    "0.0, 1.0, 0.0\n",
    "0.0, 1.0, 0.0\n",
    "0.0, 1.0, 0.0\n",
    "\n",
    "Applying this filter to an image will result in a feature map that only contains vertical lines. It is a vertical line detector.\n",
    "\n",
    "lly horizontal line by \n",
    "0.0, 0.0, 0.0\n",
    "1.0, 1.0, 1.0\n",
    "0.0, 0.0, 0.0\n",
    "\n",
    "\n",
    "Combining the results from both filters, e.g. combining both feature maps, will result in all of the lines in an image being highlighted.\n",
    "\n",
    "A suite of tens or even hundreds of other small filters can be designed to detect other features in the image.\n",
    "\n",
    "The innovation of using the convolution operation in a neural network is that the values of the filter are weights to be learned during the training of the network.\n",
    "\n",
    "\n",
    "Convolutional neural networks do not learn a single filter; they, in fact, learn multiple features in parallel for a given input.\n",
    "\n",
    "For example, it is common for a convolutional layer to learn from 32 to 512 filters in parallel for a given input.\n",
    "\n",
    "This gives the model 32, or even 512, different ways of extracting features from an input, or many different ways of both “learning to see” and after training, many different ways of “seeing” the input data.\n",
    "\n",
    "\n",
    "Color images have multiple channels, typically one for each color channel, such as red, green, and blue."
   ]
  },
  {
   "cell_type": "code",
   "execution_count": 1,
   "metadata": {},
   "outputs": [],
   "source": [
    "#importing the libraries\n",
    "from keras.models import Sequential\n",
    "from  keras.layers import Conv2D\n",
    "from  keras.layers import MaxPooling2D\n",
    "from  keras.layers import Flatten\n",
    "from  keras.layers import Dense \n"
   ]
  },
  {
   "cell_type": "code",
   "execution_count": 2,
   "metadata": {},
   "outputs": [],
   "source": [
    "#initialising the convolutionNN\n",
    "lung=Sequential()"
   ]
  },
  {
   "cell_type": "code",
   "execution_count": 3,
   "metadata": {},
   "outputs": [],
   "source": [
    "#convolution\n",
    "lung.add(Conv2D(32, (3, 3), input_shape = (64, 64, 1), activation = 'relu'))"
   ]
  },
  {
   "cell_type": "markdown",
   "metadata": {},
   "source": [
    "we’ve imported MaxPooling2D from keras.layers, which is used for pooling operation, that is the step — 2 in the process of building a cnn. For building this particular neural network, we are using a Maxpooling function, there exist different types of pooling operations like Min Pooling, Mean Pooling, etc. Here in MaxPooling we need the maximum value pixel from the respective region of interest"
   ]
  },
  {
   "cell_type": "code",
   "execution_count": 4,
   "metadata": {},
   "outputs": [],
   "source": [
    "#pooling\n",
    "lung.add(MaxPooling2D(pool_size = (2, 2)))"
   ]
  },
  {
   "cell_type": "markdown",
   "metadata": {},
   "source": [
    "#second layer of convolution\n",
    "lung.add(Conv2D(32, (3, 3), activation = 'relu'))\n",
    "lung.add(MaxPooling2D(pool_size = (2, 2)))"
   ]
  },
  {
   "cell_type": "code",
   "execution_count": 5,
   "metadata": {},
   "outputs": [],
   "source": [
    "#flatenning\n",
    "lung.add(Flatten())"
   ]
  },
  {
   "cell_type": "code",
   "execution_count": 9,
   "metadata": {},
   "outputs": [],
   "source": [
    "lung.add(Dense(units = 128,activation = \"relu\")) #hidden layer"
   ]
  },
  {
   "cell_type": "code",
   "execution_count": 10,
   "metadata": {},
   "outputs": [],
   "source": [
    "lung.add(Dense(units = 1,activation = \"sigmoid\")) #hidden layer"
   ]
  },
  {
   "cell_type": "code",
   "execution_count": 11,
   "metadata": {},
   "outputs": [],
   "source": [
    "# Compiling the CNN\n",
    "lung.compile(optimizer = 'adam', loss = 'binary_crossentropy', metrics = ['accuracy'])"
   ]
  },
  {
   "cell_type": "code",
   "execution_count": 12,
   "metadata": {},
   "outputs": [],
   "source": [
    "from keras.preprocessing.image import ImageDataGenerator\n",
    "train_datagen = ImageDataGenerator(rescale = 1./255,shear_range = 0.2,zoom_range = 0.2,horizontal_flip = True)\n",
    "test_datagen = ImageDataGenerator(rescale = 1./255)"
   ]
  },
  {
   "cell_type": "code",
   "execution_count": 13,
   "metadata": {},
   "outputs": [
    {
     "name": "stdout",
     "output_type": "stream",
     "text": [
      "Found 102 images belonging to 2 classes.\n",
      "Found 40 images belonging to 2 classes.\n"
     ]
    }
   ],
   "source": [
    "x_train = train_datagen.flow_from_directory(\n",
    "    r\"C:/Users/Suresh/Downloads/Lungcancer/trainset\"\n",
    "    ,target_size = (64,64),batch_size = 32 ,\n",
    "    class_mode = 'binary',color_mode=\"grayscale\")\n",
    "x_test = test_datagen.flow_from_directory(\n",
    "    r\"C:/Users/Suresh/Downloads/Lungcancer/testset\",\n",
    "    target_size = (64,64),batch_size = 32 , \n",
    "    class_mode = 'binary',color_mode=\"grayscale\")\n"
   ]
  },
  {
   "cell_type": "code",
   "execution_count": 14,
   "metadata": {},
   "outputs": [
    {
     "name": "stdout",
     "output_type": "stream",
     "text": [
      "WARNING:tensorflow:From <ipython-input-14-70df722b4dca>:1: Model.fit_generator (from tensorflow.python.keras.engine.training) is deprecated and will be removed in a future version.\n",
      "Instructions for updating:\n",
      "Please use Model.fit, which supports generators.\n",
      "Epoch 1/100\n",
      "4/4 [==============================] - 2s 601ms/step - loss: 0.8689 - accuracy: 0.4706 - val_loss: 0.8159 - val_accuracy: 0.5000\n",
      "Epoch 2/100\n",
      "4/4 [==============================] - 1s 222ms/step - loss: 0.7061 - accuracy: 0.5000 - val_loss: 0.6257 - val_accuracy: 0.6000\n",
      "Epoch 3/100\n",
      "4/4 [==============================] - 1s 219ms/step - loss: 0.6642 - accuracy: 0.5588 - val_loss: 0.6010 - val_accuracy: 0.6750\n",
      "Epoch 4/100\n",
      "4/4 [==============================] - 1s 247ms/step - loss: 0.6338 - accuracy: 0.6667 - val_loss: 0.5821 - val_accuracy: 0.7250\n",
      "Epoch 5/100\n",
      "4/4 [==============================] - 1s 244ms/step - loss: 0.5944 - accuracy: 0.7157 - val_loss: 0.5722 - val_accuracy: 0.7250\n",
      "Epoch 6/100\n",
      "4/4 [==============================] - 1s 227ms/step - loss: 0.5587 - accuracy: 0.7451 - val_loss: 0.5420 - val_accuracy: 0.7500\n",
      "Epoch 7/100\n",
      "4/4 [==============================] - 1s 227ms/step - loss: 0.5079 - accuracy: 0.7549 - val_loss: 0.4906 - val_accuracy: 0.7500\n",
      "Epoch 8/100\n",
      "4/4 [==============================] - 1s 235ms/step - loss: 0.4837 - accuracy: 0.7647 - val_loss: 0.5044 - val_accuracy: 0.7500\n",
      "Epoch 9/100\n",
      "4/4 [==============================] - 1s 270ms/step - loss: 0.5036 - accuracy: 0.7745 - val_loss: 0.5983 - val_accuracy: 0.7250\n",
      "Epoch 10/100\n",
      "4/4 [==============================] - 1s 224ms/step - loss: 0.5234 - accuracy: 0.7353 - val_loss: 0.4246 - val_accuracy: 0.7750\n",
      "Epoch 11/100\n",
      "4/4 [==============================] - 1s 228ms/step - loss: 0.4432 - accuracy: 0.8235 - val_loss: 0.6114 - val_accuracy: 0.7500\n",
      "Epoch 12/100\n",
      "4/4 [==============================] - 1s 266ms/step - loss: 0.5626 - accuracy: 0.7255 - val_loss: 0.6310 - val_accuracy: 0.7000\n",
      "Epoch 13/100\n",
      "4/4 [==============================] - 1s 238ms/step - loss: 0.4840 - accuracy: 0.7647 - val_loss: 0.3695 - val_accuracy: 0.8000\n",
      "Epoch 14/100\n",
      "4/4 [==============================] - 1s 243ms/step - loss: 0.5198 - accuracy: 0.7255 - val_loss: 0.3368 - val_accuracy: 0.8750\n",
      "Epoch 15/100\n",
      "4/4 [==============================] - 1s 272ms/step - loss: 0.4045 - accuracy: 0.7941 - val_loss: 0.3759 - val_accuracy: 0.8750\n",
      "Epoch 16/100\n",
      "4/4 [==============================] - 1s 224ms/step - loss: 0.3724 - accuracy: 0.8725 - val_loss: 0.3640 - val_accuracy: 0.8750\n",
      "Epoch 17/100\n",
      "4/4 [==============================] - 1s 246ms/step - loss: 0.3624 - accuracy: 0.8725 - val_loss: 0.3253 - val_accuracy: 0.9000\n",
      "Epoch 18/100\n",
      "4/4 [==============================] - 1s 241ms/step - loss: 0.3501 - accuracy: 0.8725 - val_loss: 0.3125 - val_accuracy: 0.9000\n",
      "Epoch 19/100\n",
      "4/4 [==============================] - 1s 272ms/step - loss: 0.3465 - accuracy: 0.8725 - val_loss: 0.3279 - val_accuracy: 0.9250\n",
      "Epoch 20/100\n",
      "4/4 [==============================] - 1s 220ms/step - loss: 0.3419 - accuracy: 0.8333 - val_loss: 0.4869 - val_accuracy: 0.8250\n",
      "Epoch 21/100\n",
      "4/4 [==============================] - 1s 224ms/step - loss: 0.3554 - accuracy: 0.9020 - val_loss: 0.3658 - val_accuracy: 0.9250\n",
      "Epoch 22/100\n",
      "4/4 [==============================] - 1s 223ms/step - loss: 0.3377 - accuracy: 0.8725 - val_loss: 0.2504 - val_accuracy: 0.9000\n",
      "Epoch 23/100\n",
      "4/4 [==============================] - 1s 267ms/step - loss: 0.3231 - accuracy: 0.8431 - val_loss: 0.2917 - val_accuracy: 0.9250\n",
      "Epoch 24/100\n",
      "4/4 [==============================] - 1s 230ms/step - loss: 0.2917 - accuracy: 0.8824 - val_loss: 0.2302 - val_accuracy: 0.9250\n",
      "Epoch 25/100\n",
      "4/4 [==============================] - 1s 220ms/step - loss: 0.3049 - accuracy: 0.9020 - val_loss: 0.1910 - val_accuracy: 0.9500\n",
      "Epoch 26/100\n",
      "4/4 [==============================] - 1s 225ms/step - loss: 0.2518 - accuracy: 0.9314 - val_loss: 0.3330 - val_accuracy: 0.9000\n",
      "Epoch 27/100\n",
      "4/4 [==============================] - 1s 276ms/step - loss: 0.2723 - accuracy: 0.8824 - val_loss: 0.1781 - val_accuracy: 0.9500\n",
      "Epoch 28/100\n",
      "4/4 [==============================] - 1s 224ms/step - loss: 0.2768 - accuracy: 0.9020 - val_loss: 0.1746 - val_accuracy: 0.9500\n",
      "Epoch 29/100\n",
      "4/4 [==============================] - 1s 225ms/step - loss: 0.2166 - accuracy: 0.9216 - val_loss: 0.2939 - val_accuracy: 0.9500\n",
      "Epoch 30/100\n",
      "4/4 [==============================] - 1s 223ms/step - loss: 0.3278 - accuracy: 0.8725 - val_loss: 0.1372 - val_accuracy: 0.9500\n",
      "Epoch 31/100\n",
      "4/4 [==============================] - 1s 369ms/step - loss: 0.3032 - accuracy: 0.8627 - val_loss: 0.1316 - val_accuracy: 0.9500\n",
      "Epoch 32/100\n",
      "4/4 [==============================] - 1s 312ms/step - loss: 0.2360 - accuracy: 0.9020 - val_loss: 0.2102 - val_accuracy: 0.9500\n",
      "Epoch 33/100\n",
      "4/4 [==============================] - 1s 240ms/step - loss: 0.2344 - accuracy: 0.9216 - val_loss: 0.1171 - val_accuracy: 0.9750\n",
      "Epoch 34/100\n",
      "4/4 [==============================] - 1s 278ms/step - loss: 0.1577 - accuracy: 0.9706 - val_loss: 0.0978 - val_accuracy: 1.0000\n",
      "Epoch 35/100\n",
      "4/4 [==============================] - 1s 271ms/step - loss: 0.2092 - accuracy: 0.9412 - val_loss: 0.1149 - val_accuracy: 0.9750\n",
      "Epoch 36/100\n",
      "4/4 [==============================] - 1s 230ms/step - loss: 0.1506 - accuracy: 0.9706 - val_loss: 0.1995 - val_accuracy: 0.9500\n",
      "Epoch 37/100\n",
      "4/4 [==============================] - 1s 225ms/step - loss: 0.1830 - accuracy: 0.9314 - val_loss: 0.1000 - val_accuracy: 0.9750\n",
      "Epoch 38/100\n",
      "4/4 [==============================] - 1s 268ms/step - loss: 0.2235 - accuracy: 0.9118 - val_loss: 0.0860 - val_accuracy: 1.0000\n",
      "Epoch 39/100\n",
      "4/4 [==============================] - 1s 267ms/step - loss: 0.1684 - accuracy: 0.9706 - val_loss: 0.1072 - val_accuracy: 0.9500\n",
      "Epoch 40/100\n",
      "4/4 [==============================] - 1s 267ms/step - loss: 0.1527 - accuracy: 0.9608 - val_loss: 0.0903 - val_accuracy: 1.0000\n",
      "Epoch 41/100\n",
      "4/4 [==============================] - 1s 227ms/step - loss: 0.1823 - accuracy: 0.9412 - val_loss: 0.2121 - val_accuracy: 0.9000\n",
      "Epoch 42/100\n",
      "4/4 [==============================] - 1s 243ms/step - loss: 0.1704 - accuracy: 0.9510 - val_loss: 0.0814 - val_accuracy: 1.0000\n",
      "Epoch 43/100\n",
      "4/4 [==============================] - 1s 288ms/step - loss: 0.1634 - accuracy: 0.9510 - val_loss: 0.0750 - val_accuracy: 1.0000\n",
      "Epoch 44/100\n",
      "4/4 [==============================] - 1s 253ms/step - loss: 0.1095 - accuracy: 0.9902 - val_loss: 0.1494 - val_accuracy: 0.9500\n",
      "Epoch 45/100\n",
      "4/4 [==============================] - 1s 258ms/step - loss: 0.1507 - accuracy: 0.9510 - val_loss: 0.0770 - val_accuracy: 1.0000\n",
      "Epoch 46/100\n",
      "4/4 [==============================] - 1s 228ms/step - loss: 0.0994 - accuracy: 0.9804 - val_loss: 0.0745 - val_accuracy: 1.0000\n",
      "Epoch 47/100\n",
      "4/4 [==============================] - 1s 228ms/step - loss: 0.1159 - accuracy: 0.9608 - val_loss: 0.0728 - val_accuracy: 0.9750\n",
      "Epoch 48/100\n",
      "4/4 [==============================] - 1s 272ms/step - loss: 0.0926 - accuracy: 0.9902 - val_loss: 0.0733 - val_accuracy: 0.9750\n",
      "Epoch 49/100\n",
      "4/4 [==============================] - 1s 226ms/step - loss: 0.1072 - accuracy: 0.9706 - val_loss: 0.0841 - val_accuracy: 0.9750\n",
      "Epoch 50/100\n",
      "4/4 [==============================] - 1s 222ms/step - loss: 0.1147 - accuracy: 0.9608 - val_loss: 0.0732 - val_accuracy: 0.9750\n",
      "Epoch 51/100\n",
      "4/4 [==============================] - 1s 225ms/step - loss: 0.1265 - accuracy: 0.9412 - val_loss: 0.1306 - val_accuracy: 0.9500\n",
      "Epoch 52/100\n",
      "4/4 [==============================] - 1s 268ms/step - loss: 0.1258 - accuracy: 0.9510 - val_loss: 0.0527 - val_accuracy: 1.0000\n",
      "Epoch 53/100\n",
      "4/4 [==============================] - 1s 228ms/step - loss: 0.0997 - accuracy: 0.9706 - val_loss: 0.0700 - val_accuracy: 0.9750\n",
      "Epoch 54/100\n",
      "4/4 [==============================] - 1s 225ms/step - loss: 0.0995 - accuracy: 0.9706 - val_loss: 0.0985 - val_accuracy: 0.9750\n",
      "Epoch 55/100\n",
      "4/4 [==============================] - 1s 226ms/step - loss: 0.0608 - accuracy: 1.0000 - val_loss: 0.0603 - val_accuracy: 0.9750\n",
      "Epoch 56/100\n",
      "4/4 [==============================] - 1s 290ms/step - loss: 0.1275 - accuracy: 0.9510 - val_loss: 0.0926 - val_accuracy: 0.9750\n",
      "Epoch 57/100\n",
      "4/4 [==============================] - 1s 288ms/step - loss: 0.0913 - accuracy: 0.9706 - val_loss: 0.1690 - val_accuracy: 0.9250\n",
      "Epoch 58/100\n",
      "4/4 [==============================] - 1s 229ms/step - loss: 0.1401 - accuracy: 0.9412 - val_loss: 0.0503 - val_accuracy: 1.0000\n",
      "Epoch 59/100\n",
      "4/4 [==============================] - 1s 219ms/step - loss: 0.1655 - accuracy: 0.9412 - val_loss: 0.0559 - val_accuracy: 0.9750\n",
      "Epoch 60/100\n",
      "4/4 [==============================] - 1s 269ms/step - loss: 0.0756 - accuracy: 0.9804 - val_loss: 0.0269 - val_accuracy: 1.0000\n",
      "Epoch 61/100\n",
      "4/4 [==============================] - 1s 226ms/step - loss: 0.1119 - accuracy: 0.9804 - val_loss: 0.0337 - val_accuracy: 1.0000\n",
      "Epoch 62/100\n",
      "4/4 [==============================] - 1s 267ms/step - loss: 0.0639 - accuracy: 0.9902 - val_loss: 0.0431 - val_accuracy: 1.0000\n",
      "Epoch 63/100\n",
      "4/4 [==============================] - 1s 226ms/step - loss: 0.1473 - accuracy: 0.9314 - val_loss: 0.1520 - val_accuracy: 0.9500\n",
      "Epoch 64/100\n",
      "4/4 [==============================] - 1s 226ms/step - loss: 0.0799 - accuracy: 0.9804 - val_loss: 0.0528 - val_accuracy: 1.0000\n",
      "Epoch 65/100\n",
      "4/4 [==============================] - 1s 223ms/step - loss: 0.1042 - accuracy: 0.9804 - val_loss: 0.0276 - val_accuracy: 1.0000\n",
      "Epoch 66/100\n",
      "4/4 [==============================] - 1s 228ms/step - loss: 0.0612 - accuracy: 0.9902 - val_loss: 0.0980 - val_accuracy: 0.9750\n",
      "Epoch 67/100\n",
      "4/4 [==============================] - 1s 266ms/step - loss: 0.0976 - accuracy: 0.9510 - val_loss: 0.0309 - val_accuracy: 1.0000\n",
      "Epoch 68/100\n",
      "4/4 [==============================] - 1s 218ms/step - loss: 0.1198 - accuracy: 0.9608 - val_loss: 0.0618 - val_accuracy: 0.9750\n",
      "Epoch 69/100\n",
      "4/4 [==============================] - 1s 223ms/step - loss: 0.1143 - accuracy: 0.9608 - val_loss: 0.0503 - val_accuracy: 0.9750\n",
      "Epoch 70/100\n",
      "4/4 [==============================] - 1s 299ms/step - loss: 0.0580 - accuracy: 0.9902 - val_loss: 0.0700 - val_accuracy: 0.9500\n",
      "Epoch 71/100\n",
      "4/4 [==============================] - 1s 231ms/step - loss: 0.0747 - accuracy: 0.9902 - val_loss: 0.0495 - val_accuracy: 1.0000\n",
      "Epoch 72/100\n",
      "4/4 [==============================] - 1s 264ms/step - loss: 0.0462 - accuracy: 0.9902 - val_loss: 0.0547 - val_accuracy: 0.9750\n",
      "Epoch 73/100\n",
      "4/4 [==============================] - 1s 264ms/step - loss: 0.0829 - accuracy: 0.9608 - val_loss: 0.0419 - val_accuracy: 1.0000\n",
      "Epoch 74/100\n",
      "4/4 [==============================] - 1s 253ms/step - loss: 0.0460 - accuracy: 1.0000 - val_loss: 0.0368 - val_accuracy: 1.0000\n",
      "Epoch 75/100\n",
      "4/4 [==============================] - 1s 264ms/step - loss: 0.0408 - accuracy: 1.0000 - val_loss: 0.0389 - val_accuracy: 1.0000\n",
      "Epoch 76/100\n",
      "4/4 [==============================] - 1s 267ms/step - loss: 0.0475 - accuracy: 1.0000 - val_loss: 0.0363 - val_accuracy: 0.9750\n",
      "Epoch 77/100\n",
      "4/4 [==============================] - 1s 221ms/step - loss: 0.0641 - accuracy: 0.9804 - val_loss: 0.0312 - val_accuracy: 1.0000\n",
      "Epoch 78/100\n",
      "4/4 [==============================] - 1s 230ms/step - loss: 0.0452 - accuracy: 1.0000 - val_loss: 0.0467 - val_accuracy: 0.9750\n",
      "Epoch 79/100\n",
      "4/4 [==============================] - 1s 227ms/step - loss: 0.0789 - accuracy: 0.9706 - val_loss: 0.0624 - val_accuracy: 0.9750\n",
      "Epoch 80/100\n",
      "4/4 [==============================] - 1s 263ms/step - loss: 0.0968 - accuracy: 0.9608 - val_loss: 0.1947 - val_accuracy: 0.9500\n",
      "Epoch 81/100\n",
      "4/4 [==============================] - 1s 268ms/step - loss: 0.0535 - accuracy: 0.9902 - val_loss: 0.0910 - val_accuracy: 0.9500\n",
      "Epoch 82/100\n",
      "4/4 [==============================] - 1s 267ms/step - loss: 0.0498 - accuracy: 0.9902 - val_loss: 0.0841 - val_accuracy: 0.9750\n",
      "Epoch 83/100\n",
      "4/4 [==============================] - 1s 235ms/step - loss: 0.0413 - accuracy: 0.9902 - val_loss: 0.1003 - val_accuracy: 0.9500\n",
      "Epoch 84/100\n",
      "4/4 [==============================] - 1s 254ms/step - loss: 0.0454 - accuracy: 0.9902 - val_loss: 0.1350 - val_accuracy: 0.9500\n",
      "Epoch 85/100\n",
      "4/4 [==============================] - 1s 263ms/step - loss: 0.0384 - accuracy: 1.0000 - val_loss: 0.0346 - val_accuracy: 1.0000\n",
      "Epoch 86/100\n",
      "4/4 [==============================] - 1s 222ms/step - loss: 0.0444 - accuracy: 0.9902 - val_loss: 0.0572 - val_accuracy: 0.9750\n",
      "Epoch 87/100\n",
      "4/4 [==============================] - 1s 224ms/step - loss: 0.0429 - accuracy: 0.9902 - val_loss: 0.0270 - val_accuracy: 1.0000\n",
      "Epoch 88/100\n",
      "4/4 [==============================] - 1s 221ms/step - loss: 0.0242 - accuracy: 1.0000 - val_loss: 0.0326 - val_accuracy: 1.0000\n",
      "Epoch 89/100\n",
      "4/4 [==============================] - 1s 224ms/step - loss: 0.0372 - accuracy: 0.9902 - val_loss: 0.0410 - val_accuracy: 0.9750\n",
      "Epoch 90/100\n",
      "4/4 [==============================] - 1s 225ms/step - loss: 0.0525 - accuracy: 0.9706 - val_loss: 0.0560 - val_accuracy: 0.9750\n",
      "Epoch 91/100\n",
      "4/4 [==============================] - 1s 226ms/step - loss: 0.0366 - accuracy: 0.9902 - val_loss: 0.0187 - val_accuracy: 1.0000\n",
      "Epoch 92/100\n",
      "4/4 [==============================] - 1s 268ms/step - loss: 0.0333 - accuracy: 1.0000 - val_loss: 0.0180 - val_accuracy: 1.0000\n",
      "Epoch 93/100\n",
      "4/4 [==============================] - 1s 226ms/step - loss: 0.0298 - accuracy: 1.0000 - val_loss: 0.0265 - val_accuracy: 0.9750\n",
      "Epoch 94/100\n",
      "4/4 [==============================] - 1s 224ms/step - loss: 0.0165 - accuracy: 1.0000 - val_loss: 0.0268 - val_accuracy: 0.9750\n",
      "Epoch 95/100\n",
      "4/4 [==============================] - 1s 228ms/step - loss: 0.0195 - accuracy: 1.0000 - val_loss: 0.0284 - val_accuracy: 0.9750\n",
      "Epoch 96/100\n",
      "4/4 [==============================] - 1s 229ms/step - loss: 0.0394 - accuracy: 0.9902 - val_loss: 0.0201 - val_accuracy: 1.0000\n",
      "Epoch 97/100\n",
      "4/4 [==============================] - 1s 309ms/step - loss: 0.0224 - accuracy: 1.0000 - val_loss: 0.0191 - val_accuracy: 1.0000\n",
      "Epoch 98/100\n",
      "4/4 [==============================] - 1s 261ms/step - loss: 0.0160 - accuracy: 1.0000 - val_loss: 0.0169 - val_accuracy: 1.0000\n",
      "Epoch 99/100\n",
      "4/4 [==============================] - 1s 268ms/step - loss: 0.0327 - accuracy: 0.9902 - val_loss: 0.0165 - val_accuracy: 1.0000\n",
      "Epoch 100/100\n",
      "4/4 [==============================] - 1s 230ms/step - loss: 0.0235 - accuracy: 1.0000 - val_loss: 0.0417 - val_accuracy: 0.9750\n"
     ]
    },
    {
     "data": {
      "text/plain": [
       "<tensorflow.python.keras.callbacks.History at 0x1ce4d9a9d60>"
      ]
     },
     "execution_count": 14,
     "metadata": {},
     "output_type": "execute_result"
    }
   ],
   "source": [
    "lung.fit_generator(x_train,steps_per_epoch = 4, \n",
    "                    epochs = 100,validation_data = x_test, \n",
    "                    validation_steps = 2)"
   ]
  },
  {
   "cell_type": "code",
   "execution_count": 15,
   "metadata": {},
   "outputs": [
    {
     "name": "stdout",
     "output_type": "stream",
     "text": [
      "{'Cancer': 0, 'NonCancer': 1}\n"
     ]
    }
   ],
   "source": [
    "print(x_train.class_indices)"
   ]
  },
  {
   "cell_type": "code",
   "execution_count": 22,
   "metadata": {},
   "outputs": [],
   "source": [
    "lung.save(\"lung.h5\")"
   ]
  },
  {
   "cell_type": "code",
   "execution_count": null,
   "metadata": {},
   "outputs": [],
   "source": []
  }
 ],
 "metadata": {
  "kernelspec": {
   "display_name": "Python 3",
   "language": "python",
   "name": "python3"
  },
  "language_info": {
   "codemirror_mode": {
    "name": "ipython",
    "version": 3
   },
   "file_extension": ".py",
   "mimetype": "text/x-python",
   "name": "python",
   "nbconvert_exporter": "python",
   "pygments_lexer": "ipython3",
   "version": "3.8.5"
  }
 },
 "nbformat": 4,
 "nbformat_minor": 4
}
